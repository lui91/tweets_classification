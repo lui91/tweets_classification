{
 "cells": [
  {
   "cell_type": "code",
   "execution_count": null,
   "metadata": {},
   "outputs": [],
   "source": []
  }
 ],
 "metadata": {
  "kernelspec": {
   "display_name": "etl",
   "language": "python",
   "name": "python3"
  },
  "language_info": {
   "name": "python",
   "version": "3.10.8"
  },
  "orig_nbformat": 4,
  "vscode": {
   "interpreter": {
    "hash": "529a3e44a508bbf35c475c8a8a0f67d383ac30e4d7d9f36340a2614ffa6f013a"
   }
  }
 },
 "nbformat": 4,
 "nbformat_minor": 2
}
